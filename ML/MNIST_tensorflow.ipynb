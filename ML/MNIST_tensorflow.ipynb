{
  "nbformat": 4,
  "nbformat_minor": 0,
  "metadata": {
    "colab": {
      "name": "First_MNIST.ipynb",
      "provenance": []
    },
    "kernelspec": {
      "name": "python3",
      "display_name": "Python 3"
    }
  },
  "cells": [
    {
      "cell_type": "code",
      "metadata": {
        "id": "iHTLRX6007HW",
        "colab": {
          "base_uri": "https://localhost:8080/",
          "height": 63
        },
        "outputId": "71ad595e-59f9-47cd-c6a4-009b8d9444f2"
      },
      "source": [
        "import numpy as np\n",
        "import tensorflow.compat.v1 as tf\n",
        "from tensorflow.examples.tutorials.mnist import input_data"
      ],
      "execution_count": null,
      "outputs": [
        {
          "output_type": "display_data",
          "data": {
            "text/html": [
              "<p style=\"color: red;\">\n",
              "The default version of TensorFlow in Colab will soon switch to TensorFlow 2.x.<br>\n",
              "We recommend you <a href=\"https://www.tensorflow.org/guide/migrate\" target=\"_blank\">upgrade</a> now \n",
              "or ensure your notebook will continue to use TensorFlow 1.x via the <code>%tensorflow_version 1.x</code> magic:\n",
              "<a href=\"https://colab.research.google.com/notebooks/tensorflow_version.ipynb\" target=\"_blank\">more info</a>.</p>\n"
            ],
            "text/plain": [
              "<IPython.core.display.HTML object>"
            ]
          },
          "metadata": {
            "tags": []
          }
        }
      ]
    },
    {
      "cell_type": "code",
      "metadata": {
        "id": "Woe_dbtl1nQX",
        "colab": {
          "base_uri": "https://localhost:8080/",
          "height": 547
        },
        "outputId": "5fba8aba-024f-4eab-d34a-dea1f95d261c"
      },
      "source": [
        "mnist = input_data.read_data_sets(\"MNIST_data/\",one_hot=True)"
      ],
      "execution_count": null,
      "outputs": [
        {
          "output_type": "stream",
          "text": [
            "WARNING:tensorflow:From <ipython-input-2-758d29429358>:1: read_data_sets (from tensorflow.contrib.learn.python.learn.datasets.mnist) is deprecated and will be removed in a future version.\n",
            "Instructions for updating:\n",
            "Please use alternatives such as official/mnist/dataset.py from tensorflow/models.\n",
            "WARNING:tensorflow:From /usr/local/lib/python3.6/dist-packages/tensorflow_core/contrib/learn/python/learn/datasets/mnist.py:260: maybe_download (from tensorflow.contrib.learn.python.learn.datasets.base) is deprecated and will be removed in a future version.\n",
            "Instructions for updating:\n",
            "Please write your own downloading logic.\n",
            "WARNING:tensorflow:From /usr/local/lib/python3.6/dist-packages/tensorflow_core/contrib/learn/python/learn/datasets/base.py:252: _internal_retry.<locals>.wrap.<locals>.wrapped_fn (from tensorflow.contrib.learn.python.learn.datasets.base) is deprecated and will be removed in a future version.\n",
            "Instructions for updating:\n",
            "Please use urllib or similar directly.\n",
            "Successfully downloaded train-images-idx3-ubyte.gz 9912422 bytes.\n",
            "WARNING:tensorflow:From /usr/local/lib/python3.6/dist-packages/tensorflow_core/contrib/learn/python/learn/datasets/mnist.py:262: extract_images (from tensorflow.contrib.learn.python.learn.datasets.mnist) is deprecated and will be removed in a future version.\n",
            "Instructions for updating:\n",
            "Please use tf.data to implement this functionality.\n",
            "Extracting MNIST_data/train-images-idx3-ubyte.gz\n",
            "Successfully downloaded train-labels-idx1-ubyte.gz 28881 bytes.\n",
            "WARNING:tensorflow:From /usr/local/lib/python3.6/dist-packages/tensorflow_core/contrib/learn/python/learn/datasets/mnist.py:267: extract_labels (from tensorflow.contrib.learn.python.learn.datasets.mnist) is deprecated and will be removed in a future version.\n",
            "Instructions for updating:\n",
            "Please use tf.data to implement this functionality.\n",
            "Extracting MNIST_data/train-labels-idx1-ubyte.gz\n",
            "WARNING:tensorflow:From /usr/local/lib/python3.6/dist-packages/tensorflow_core/contrib/learn/python/learn/datasets/mnist.py:110: dense_to_one_hot (from tensorflow.contrib.learn.python.learn.datasets.mnist) is deprecated and will be removed in a future version.\n",
            "Instructions for updating:\n",
            "Please use tf.one_hot on tensors.\n",
            "Successfully downloaded t10k-images-idx3-ubyte.gz 1648877 bytes.\n",
            "Extracting MNIST_data/t10k-images-idx3-ubyte.gz\n",
            "Successfully downloaded t10k-labels-idx1-ubyte.gz 4542 bytes.\n",
            "Extracting MNIST_data/t10k-labels-idx1-ubyte.gz\n",
            "WARNING:tensorflow:From /usr/local/lib/python3.6/dist-packages/tensorflow_core/contrib/learn/python/learn/datasets/mnist.py:290: DataSet.__init__ (from tensorflow.contrib.learn.python.learn.datasets.mnist) is deprecated and will be removed in a future version.\n",
            "Instructions for updating:\n",
            "Please use alternatives such as official/mnist/dataset.py from tensorflow/models.\n"
          ],
          "name": "stdout"
        }
      ]
    },
    {
      "cell_type": "markdown",
      "metadata": {
        "id": "0UnpoE_48Kih"
      },
      "source": [
        "### Outlining the model"
      ]
    },
    {
      "cell_type": "code",
      "metadata": {
        "id": "bo7xK0Fy30z3"
      },
      "source": [
        "input_size = 784\n",
        "output_size = 10\n",
        "hidden_layer_size = 50\n",
        "\n",
        "tf.reset_default_graph()\n",
        "\n",
        "inputs = tf.placeholder(tf.float32,[None,input_size])\n",
        "targets = tf.placeholder(tf.float32,[None,output_size])\n",
        "\n",
        "weight_1 = tf.get_variable(\"weight_1\", [input_size,hidden_layer_size])\n",
        "biases_1 = tf.get_variable(\"biases_1\",[hidden_layer_size])\n",
        "\n",
        "output_1= tf.nn.relu(tf.matmul(inputs,weight_1) + biases_1)\n",
        "\n",
        "weight_2 = tf.get_variable(\"weight_2\", [hidden_layer_size,hidden_layer_size])\n",
        "biases_2 = tf.get_variable(\"biases_2\",[hidden_layer_size])\n",
        "\n",
        "output_2= tf.nn.relu(tf.matmul(output_1,weight_2) + biases_2)\n",
        "\n",
        "weight_3 = tf.get_variable(\"weight_3\", [hidden_layer_size,output_size])\n",
        "biases_3 = tf.get_variable(\"biases_3\",[output_size])\n",
        "\n",
        "output=tf.matmul(output_2,weight_3) + biases_3\n"
      ],
      "execution_count": null,
      "outputs": []
    },
    {
      "cell_type": "code",
      "metadata": {
        "id": "MW0jDe1p6xnP",
        "colab": {
          "base_uri": "https://localhost:8080/",
          "height": 158
        },
        "outputId": "edd1d510-059e-4193-fa18-58e87d6537c5"
      },
      "source": [
        "loss = tf.nn.softmax_cross_entropy_with_logits(logits=output, labels=targets)\n",
        "\n",
        "mean_loss = tf.reduce_mean(loss)\n",
        "\n",
        "optimize = tf.train.AdamOptimizer(learning_rate=0.01).minimize(mean_loss)"
      ],
      "execution_count": null,
      "outputs": [
        {
          "output_type": "stream",
          "text": [
            "WARNING:tensorflow:From <ipython-input-4-21f80e3f6bc7>:1: softmax_cross_entropy_with_logits (from tensorflow.python.ops.nn_ops) is deprecated and will be removed in a future version.\n",
            "Instructions for updating:\n",
            "\n",
            "Future major versions of TensorFlow will allow gradients to flow\n",
            "into the labels input on backprop by default.\n",
            "\n",
            "See `tf.nn.softmax_cross_entropy_with_logits_v2`.\n",
            "\n"
          ],
          "name": "stdout"
        }
      ]
    },
    {
      "cell_type": "code",
      "metadata": {
        "id": "1oM8BtIkJQpW"
      },
      "source": [
        "output_equal_targets=tf.equal(tf.arg_max(output,1),tf.arg_max(targets,1))\n",
        "\n",
        "accuray = tf.reduce_mean(tf.cast(output_equal_targets,tf.float32))"
      ],
      "execution_count": null,
      "outputs": []
    },
    {
      "cell_type": "code",
      "metadata": {
        "id": "Fbj5Yy7Pe4_e",
        "colab": {
          "base_uri": "https://localhost:8080/",
          "height": 105
        },
        "outputId": "8db77405-538c-4cf3-9b69-f45cdf7d9abd"
      },
      "source": [
        "sess = tf.InteractiveSession()\n",
        "intializer = tf.global_variables_initializer()\n",
        "sess.run(intializer)\n",
        "\n",
        "batch_size=100\n",
        "batches_number=mnist.train._num_examples // batch_size\n",
        "\n",
        "max_epochs=15\n",
        "\n",
        "prev_validation_loss = 999999999\n",
        "\n",
        "for epoch_counter in range(max_epochs):\n",
        "  curr_epoch_loss=0\n",
        "  for batch_counter in range(batches_number):\n",
        "    input_batch,target_batch = mnist.train.next_batch(batch_size= batch_size)\n",
        "    _,batch_loss = sess.run([optimize,mean_loss],\n",
        "                            feed_dict = {inputs: input_batch, targets:target_batch})\n",
        "    curr_epoch_loss+=batch_loss\n",
        "  curr_epoch_loss/=batches_number\n",
        "  validation_loss,validation_accuracy=sess.run([mean_loss,accuray],\n",
        "                                               feed_dict={inputs:input_batch,targets:target_batch})\n",
        "  print('Epoch='+str(epoch_counter+1)+\n",
        "        '.Training loss='+'{0:.3f}'.format(curr_epoch_loss)+\n",
        "        '. Validation loss='+'{0:.3f}'.format(validation_loss)+\n",
        "        '. Validation accuracy='+str(validation_accuracy*100)+\n",
        "        '%')\n",
        "  if validation_loss > prev_validation_loss:\n",
        "    break\n",
        "  prev_validation_loss=validation_loss\n",
        "\n",
        "print('End of Training')"
      ],
      "execution_count": null,
      "outputs": [
        {
          "output_type": "stream",
          "text": [
            "Epoch=1.Training loss=0.275. Validation loss=0.167. Validation accuracy=95.99999785423279%\n",
            "Epoch=2.Training loss=0.153. Validation loss=0.128. Validation accuracy=95.99999785423279%\n",
            "Epoch=3.Training loss=0.125. Validation loss=0.024. Validation accuracy=99.00000095367432%\n",
            "Epoch=4.Training loss=0.116. Validation loss=0.124. Validation accuracy=97.00000286102295%\n",
            "End of Training\n"
          ],
          "name": "stdout"
        }
      ]
    },
    {
      "cell_type": "markdown",
      "metadata": {
        "id": "m_gt2XizNqdM"
      },
      "source": [
        "### Test"
      ]
    },
    {
      "cell_type": "code",
      "metadata": {
        "id": "mP3Ujkh7mMlJ",
        "colab": {
          "base_uri": "https://localhost:8080/",
          "height": 34
        },
        "outputId": "dc0310b7-633b-4e67-f5be-259f17634762"
      },
      "source": [
        "input_batch,target_batch=mnist.test.next_batch(mnist.test._num_examples)\n",
        "test_accuracy=sess.run([accuray],\n",
        "                       feed_dict={inputs:input_batch, targets:target_batch})\n",
        "test_accuracy_percentage=test_accuracy[0] * 100\n",
        "print('Test accuracy:'+str(test_accuracy_percentage)+'%')"
      ],
      "execution_count": null,
      "outputs": [
        {
          "output_type": "stream",
          "text": [
            "Test accuracy:96.13000154495239%\n"
          ],
          "name": "stdout"
        }
      ]
    },
    {
      "cell_type": "code",
      "metadata": {
        "id": "vMaCPHJnPI4m"
      },
      "source": [
        ""
      ],
      "execution_count": null,
      "outputs": []
    }
  ]
}